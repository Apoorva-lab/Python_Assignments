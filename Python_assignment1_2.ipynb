{
 "cells": [
  {
   "cell_type": "code",
   "execution_count": 1,
   "metadata": {},
   "outputs": [
    {
     "name": "stdout",
     "output_type": "stream",
     "text": [
      "please enter first Name :Apoorva\n",
      "Apoorva\n"
     ]
    }
   ],
   "source": [
    "\n",
    "Enter_firstName=input(\"please enter first Name :\")\n",
    "print(Enter_firstName)"
   ]
  },
  {
   "cell_type": "code",
   "execution_count": 2,
   "metadata": {},
   "outputs": [
    {
     "name": "stdout",
     "output_type": "stream",
     "text": [
      "Please enter Last Name : Salunkhe\n",
      "Salunkhe\n"
     ]
    }
   ],
   "source": [
    "\n",
    "Enter_LastName=input(\"Please enter Last Name : \")\n",
    "print(Enter_LastName)"
   ]
  },
  {
   "cell_type": "code",
   "execution_count": 3,
   "metadata": {},
   "outputs": [
    {
     "name": "stdout",
     "output_type": "stream",
     "text": [
      "Apoorva Salunkhe\n"
     ]
    }
   ],
   "source": [
    "\n",
    "Name =Enter_firstName+' '+Enter_LastName\n",
    "print(Name)\n",
    "Reverse_Name=Name[::-1]"
   ]
  },
  {
   "cell_type": "code",
   "execution_count": 4,
   "metadata": {},
   "outputs": [
    {
     "name": "stdout",
     "output_type": "stream",
     "text": [
      "ehknulaS avroopA\n"
     ]
    }
   ],
   "source": [
    "print(Reverse_Name)"
   ]
  },
  {
   "cell_type": "code",
   "execution_count": null,
   "metadata": {},
   "outputs": [],
   "source": []
  }
 ],
 "metadata": {
  "kernelspec": {
   "display_name": "Python 3",
   "language": "python",
   "name": "python3"
  },
  "language_info": {
   "codemirror_mode": {
    "name": "ipython",
    "version": 3
   },
   "file_extension": ".py",
   "mimetype": "text/x-python",
   "name": "python",
   "nbconvert_exporter": "python",
   "pygments_lexer": "ipython3",
   "version": "3.7.6"
  }
 },
 "nbformat": 4,
 "nbformat_minor": 4
}
